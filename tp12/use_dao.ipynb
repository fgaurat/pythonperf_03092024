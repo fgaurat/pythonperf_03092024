{
 "cells": [
  {
   "cell_type": "code",
   "execution_count": 18,
   "metadata": {},
   "outputs": [],
   "source": [
    "a = 2"
   ]
  },
  {
   "cell_type": "code",
   "execution_count": 19,
   "metadata": {},
   "outputs": [
    {
     "data": {
      "text/plain": [
       "2"
      ]
     },
     "execution_count": 19,
     "metadata": {},
     "output_type": "execute_result"
    }
   ],
   "source": [
    "a"
   ]
  },
  {
   "cell_type": "code",
   "execution_count": 20,
   "metadata": {},
   "outputs": [],
   "source": [
    "from CustomerDAO import CustomerDAO\n",
    "dao=CustomerDAO('..\\customers_db.db')\n",
    "\n",
    "\n"
   ]
  },
  {
   "cell_type": "code",
   "execution_count": 21,
   "metadata": {},
   "outputs": [],
   "source": [
    "# ! pip install pandas"
   ]
  },
  {
   "cell_type": "code",
   "execution_count": 22,
   "metadata": {},
   "outputs": [],
   "source": [
    "import pandas as pd\n",
    "df = pd.DataFrame(dao.findAll())\n",
    "\n"
   ]
  },
  {
   "cell_type": "code",
   "execution_count": 23,
   "metadata": {},
   "outputs": [
    {
     "data": {
      "text/html": [
       "<div>\n",
       "<style scoped>\n",
       "    .dataframe tbody tr th:only-of-type {\n",
       "        vertical-align: middle;\n",
       "    }\n",
       "\n",
       "    .dataframe tbody tr th {\n",
       "        vertical-align: top;\n",
       "    }\n",
       "\n",
       "    .dataframe thead th {\n",
       "        text-align: right;\n",
       "    }\n",
       "</style>\n",
       "<table border=\"1\" class=\"dataframe\">\n",
       "  <thead>\n",
       "    <tr style=\"text-align: right;\">\n",
       "      <th></th>\n",
       "      <th>id</th>\n",
       "      <th>first_name</th>\n",
       "      <th>last_name</th>\n",
       "      <th>email</th>\n",
       "      <th>gender</th>\n",
       "      <th>ip_address</th>\n",
       "    </tr>\n",
       "  </thead>\n",
       "  <tbody>\n",
       "    <tr>\n",
       "      <th>0</th>\n",
       "      <td>1</td>\n",
       "      <td>Ardith</td>\n",
       "      <td>Birrell</td>\n",
       "      <td>abirrell0@trellian.com</td>\n",
       "      <td>Female</td>\n",
       "      <td>29.2.157.39</td>\n",
       "    </tr>\n",
       "    <tr>\n",
       "      <th>1</th>\n",
       "      <td>2</td>\n",
       "      <td>Emerson</td>\n",
       "      <td>Lidgertwood</td>\n",
       "      <td>elidgertwood1@bluehost.com</td>\n",
       "      <td>Male</td>\n",
       "      <td>138.193.155.250</td>\n",
       "    </tr>\n",
       "    <tr>\n",
       "      <th>2</th>\n",
       "      <td>3</td>\n",
       "      <td>Gerrard</td>\n",
       "      <td>Casse</td>\n",
       "      <td>gcasse2@nps.gov</td>\n",
       "      <td>Male</td>\n",
       "      <td>127.213.206.109</td>\n",
       "    </tr>\n",
       "    <tr>\n",
       "      <th>3</th>\n",
       "      <td>4</td>\n",
       "      <td>Daffie</td>\n",
       "      <td>Bleddon</td>\n",
       "      <td>dbleddon3@digg.com</td>\n",
       "      <td>Female</td>\n",
       "      <td>105.118.134.162</td>\n",
       "    </tr>\n",
       "    <tr>\n",
       "      <th>4</th>\n",
       "      <td>5</td>\n",
       "      <td>Skippie</td>\n",
       "      <td>Stoddard</td>\n",
       "      <td>sstoddard4@squarespace.com</td>\n",
       "      <td>Genderqueer</td>\n",
       "      <td>110.184.155.62</td>\n",
       "    </tr>\n",
       "    <tr>\n",
       "      <th>...</th>\n",
       "      <td>...</td>\n",
       "      <td>...</td>\n",
       "      <td>...</td>\n",
       "      <td>...</td>\n",
       "      <td>...</td>\n",
       "      <td>...</td>\n",
       "    </tr>\n",
       "    <tr>\n",
       "      <th>995</th>\n",
       "      <td>996</td>\n",
       "      <td>Beaufort</td>\n",
       "      <td>Allsworth</td>\n",
       "      <td>ballsworthrn@so-net.ne.jp</td>\n",
       "      <td>Male</td>\n",
       "      <td>99.63.230.152</td>\n",
       "    </tr>\n",
       "    <tr>\n",
       "      <th>996</th>\n",
       "      <td>997</td>\n",
       "      <td>Nikita</td>\n",
       "      <td>Edwards</td>\n",
       "      <td>nedwardsro@comcast.net</td>\n",
       "      <td>Male</td>\n",
       "      <td>66.102.5.203</td>\n",
       "    </tr>\n",
       "    <tr>\n",
       "      <th>997</th>\n",
       "      <td>998</td>\n",
       "      <td>Gabriella</td>\n",
       "      <td>Mauditt</td>\n",
       "      <td>gmaudittrp@weather.com</td>\n",
       "      <td>Bigender</td>\n",
       "      <td>145.133.52.145</td>\n",
       "    </tr>\n",
       "    <tr>\n",
       "      <th>998</th>\n",
       "      <td>999</td>\n",
       "      <td>Jacynth</td>\n",
       "      <td>Grioli</td>\n",
       "      <td>jgriolirq@ycombinator.com</td>\n",
       "      <td>Female</td>\n",
       "      <td>177.85.132.130</td>\n",
       "    </tr>\n",
       "    <tr>\n",
       "      <th>999</th>\n",
       "      <td>1000</td>\n",
       "      <td>Joy</td>\n",
       "      <td>Hollier</td>\n",
       "      <td>jhollierrr@toplist.cz</td>\n",
       "      <td>Female</td>\n",
       "      <td>200.168.10.93</td>\n",
       "    </tr>\n",
       "  </tbody>\n",
       "</table>\n",
       "<p>1000 rows × 6 columns</p>\n",
       "</div>"
      ],
      "text/plain": [
       "       id first_name    last_name                       email       gender  \\\n",
       "0       1     Ardith      Birrell      abirrell0@trellian.com       Female   \n",
       "1       2    Emerson  Lidgertwood  elidgertwood1@bluehost.com         Male   \n",
       "2       3    Gerrard        Casse             gcasse2@nps.gov         Male   \n",
       "3       4     Daffie      Bleddon          dbleddon3@digg.com       Female   \n",
       "4       5    Skippie     Stoddard  sstoddard4@squarespace.com  Genderqueer   \n",
       "..    ...        ...          ...                         ...          ...   \n",
       "995   996   Beaufort    Allsworth   ballsworthrn@so-net.ne.jp         Male   \n",
       "996   997     Nikita      Edwards      nedwardsro@comcast.net         Male   \n",
       "997   998  Gabriella      Mauditt      gmaudittrp@weather.com     Bigender   \n",
       "998   999    Jacynth       Grioli   jgriolirq@ycombinator.com       Female   \n",
       "999  1000        Joy      Hollier       jhollierrr@toplist.cz       Female   \n",
       "\n",
       "          ip_address  \n",
       "0        29.2.157.39  \n",
       "1    138.193.155.250  \n",
       "2    127.213.206.109  \n",
       "3    105.118.134.162  \n",
       "4     110.184.155.62  \n",
       "..               ...  \n",
       "995    99.63.230.152  \n",
       "996     66.102.5.203  \n",
       "997   145.133.52.145  \n",
       "998   177.85.132.130  \n",
       "999    200.168.10.93  \n",
       "\n",
       "[1000 rows x 6 columns]"
      ]
     },
     "execution_count": 23,
     "metadata": {},
     "output_type": "execute_result"
    }
   ],
   "source": [
    "df"
   ]
  }
 ],
 "metadata": {
  "kernelspec": {
   "display_name": ".venv",
   "language": "python",
   "name": "python3"
  },
  "language_info": {
   "codemirror_mode": {
    "name": "ipython",
    "version": 3
   },
   "file_extension": ".py",
   "mimetype": "text/x-python",
   "name": "python",
   "nbconvert_exporter": "python",
   "pygments_lexer": "ipython3",
   "version": "3.11.4"
  },
  "orig_nbformat": 4,
  "vscode": {
   "interpreter": {
    "hash": "6d4accf128263ab0a307de91a6e1970d065e742e2edef1b8eed3e2959a50d5a3"
   }
  }
 },
 "nbformat": 4,
 "nbformat_minor": 2
}
